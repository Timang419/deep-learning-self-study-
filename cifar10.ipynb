{
  "nbformat": 4,
  "nbformat_minor": 0,
  "metadata": {
    "colab": {
      "provenance": [],
      "authorship_tag": "ABX9TyPS3tnpEPn5nZGDmSkSPco1",
      "include_colab_link": true
    },
    "kernelspec": {
      "name": "python3",
      "display_name": "Python 3"
    },
    "language_info": {
      "name": "python"
    }
  },
  "cells": [
    {
      "cell_type": "markdown",
      "metadata": {
        "id": "view-in-github",
        "colab_type": "text"
      },
      "source": [
        "<a href=\"https://colab.research.google.com/github/Timang419/deep-learning-self-study-/blob/main/cifar10.ipynb\" target=\"_parent\"><img src=\"https://colab.research.google.com/assets/colab-badge.svg\" alt=\"Open In Colab\"/></a>"
      ]
    },
    {
      "cell_type": "code",
      "execution_count": null,
      "metadata": {
        "id": "ZjZBAB1vbnGO"
      },
      "outputs": [],
      "source": [
        "# import libraries\n",
        "import numpy as np\n",
        "\n",
        "import torch\n",
        "import torch.nn as nn\n",
        "import torch.nn.functional as F\n",
        "from torch.utils.data import DataLoader,TensorDataset\n",
        "from sklearn.model_selection import train_test_split\n",
        "\n",
        "# for getting summary info on models\n",
        "from torchsummary import summary\n",
        "import torchvision\n",
        "import torchvision.transforms as T\n",
        "from torch.utils.data import DataLoader,Subset\n",
        "\n",
        "import matplotlib.pyplot as plt\n",
        "import matplotlib_inline.backend_inline\n",
        "matplotlib_inline.backend_inline.set_matplotlib_formats('svg')"
      ]
    },
    {
      "cell_type": "code",
      "source": [
        "# import the dataset (Cifar10)\n",
        "transform = T.Compose([ T.ToTensor(),\n",
        "                        T.Normalize([.5,.5,.5],[.5,.5,.5])\n",
        "                       ])\n",
        "trainset=torchvision.datasets.CIFAR10(root='./data',train=True,download=True,transform=None)\n",
        "devtest=torchvision.datasets.CIFAR10(root='./data',train=False,download=True,transform=None)\n",
        "\n",
        "# split the devtest into two separate sets\n",
        "randidx = np.random.permutation(10000)   # a random permutation of indices\n",
        "devset  = Subset(devtest,randidx[:6000]) # Subset for devset\n",
        "testset = Subset(devtest,randidx[6000:]) # Subset for test"
      ],
      "metadata": {
        "id": "Dhnmw7I_dYdS"
      },
      "execution_count": null,
      "outputs": []
    },
    {
      "cell_type": "code",
      "source": [
        "len(trainset)"
      ],
      "metadata": {
        "colab": {
          "base_uri": "https://localhost:8080/"
        },
        "id": "q_wTC7m3q4mj",
        "outputId": "bc3d8151-d758-4171-dbf9-6b4994532e14"
      },
      "execution_count": null,
      "outputs": [
        {
          "output_type": "execute_result",
          "data": {
            "text/plain": [
              "50000"
            ]
          },
          "metadata": {},
          "execution_count": 9
        }
      ]
    }
  ]
}