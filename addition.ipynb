{
  "nbformat": 4,
  "nbformat_minor": 0,
  "metadata": {
    "colab": {
      "provenance": [],
      "gpuType": "T4",
      "authorship_tag": "ABX9TyMj+p02LTxQHINa7iAzTuxl",
      "include_colab_link": true
    },
    "kernelspec": {
      "name": "python3",
      "display_name": "Python 3"
    },
    "language_info": {
      "name": "python"
    },
    "accelerator": "GPU"
  },
  "cells": [
    {
      "cell_type": "markdown",
      "metadata": {
        "id": "view-in-github",
        "colab_type": "text"
      },
      "source": [
        "<a href=\"https://colab.research.google.com/github/Timang419/deep-learning-self-study-/blob/main/addition.ipynb\" target=\"_parent\"><img src=\"https://colab.research.google.com/assets/colab-badge.svg\" alt=\"Open In Colab\"/></a>"
      ]
    },
    {
      "cell_type": "code",
      "execution_count": 2,
      "metadata": {
        "id": "6FPJ2zmCKjOp"
      },
      "outputs": [],
      "source": [
        "# import libraries\n",
        "import numpy as np\n",
        "\n",
        "import torch\n",
        "import torch.nn as nn\n",
        "import torch.nn.functional as F\n",
        "from torch.utils.data import DataLoader,TensorDataset\n",
        "from sklearn.model_selection import train_test_split\n",
        "\n",
        "import matplotlib.pyplot as plt\n",
        "import matplotlib_inline.backend_inline\n",
        "matplotlib_inline.backend_inline.set_matplotlib_formats('svg')"
      ]
    },
    {
      "cell_type": "code",
      "source": [
        "# generate the data\n",
        "data1=np.random.randint(-10,11,size=10000)\n",
        "data2=np.random.randint(-10,11,size=10000)\n",
        "x = torch.tensor(np.column_stack((data1, data2))).float()\n",
        "y = torch.sum(x, axis=1, keepdim=True)\n",
        "\n"
      ],
      "metadata": {
        "id": "hBZboDkbLx4a"
      },
      "execution_count": 3,
      "outputs": []
    },
    {
      "cell_type": "code",
      "source": [
        "# use GPU if available\n",
        "device = torch.device('cuda:0' if torch.cuda.is_available() else 'cpu')"
      ],
      "metadata": {
        "id": "JErr4gzPAGca"
      },
      "execution_count": 4,
      "outputs": []
    },
    {
      "cell_type": "code",
      "source": [
        "y.size()"
      ],
      "metadata": {
        "colab": {
          "base_uri": "https://localhost:8080/"
        },
        "id": "SCJHqoAB8_2Y",
        "outputId": "2cb4070c-b6c3-4ba8-a69c-0beacd5c7d90"
      },
      "execution_count": 65,
      "outputs": [
        {
          "output_type": "execute_result",
          "data": {
            "text/plain": [
              "torch.Size([10000, 1])"
            ]
          },
          "metadata": {},
          "execution_count": 65
        }
      ]
    },
    {
      "cell_type": "code",
      "source": [
        "# print the data\n",
        "for i in range(5):\n",
        "  print(x[i],y[i])"
      ],
      "metadata": {
        "colab": {
          "base_uri": "https://localhost:8080/"
        },
        "id": "3jnUCPRzMgim",
        "outputId": "ed61b7d4-ac22-4da9-fe1d-8bd91a951a91"
      },
      "execution_count": 5,
      "outputs": [
        {
          "output_type": "stream",
          "name": "stdout",
          "text": [
            "tensor([9., 2.]) tensor([11.])\n",
            "tensor([ 3., -5.]) tensor([-2.])\n",
            "tensor([ 9., -2.]) tensor([7.])\n",
            "tensor([-7.,  4.]) tensor([-3.])\n",
            "tensor([-6.,  5.]) tensor([-1.])\n"
          ]
        }
      ]
    },
    {
      "cell_type": "code",
      "source": [
        "# split the data\n",
        "x_train,x_test,y_train,y_test=train_test_split(x,y,test_size=.3)"
      ],
      "metadata": {
        "id": "oqEAGABWqKNq"
      },
      "execution_count": 6,
      "outputs": []
    },
    {
      "cell_type": "code",
      "source": [
        "# create the model\n",
        "def create_model():\n",
        "\n",
        "  class add_model(nn.Module):\n",
        "    def __init__(self):\n",
        "      super().__init__()\n",
        "\n",
        "      # input layer\n",
        "      self.input=nn.Linear(2,16)\n",
        "\n",
        "      # hidden layer\n",
        "      self.hidden=nn.Linear(16,16)\n",
        "\n",
        "      # output layer\n",
        "      self.output=nn.Linear(16,1)\n",
        "\n",
        "    # forward pass\n",
        "    def forward(self,x):\n",
        "      x=F.relu(self.input(x))\n",
        "      x=F.relu(self.hidden(x))\n",
        "      x=self.output(x)\n",
        "\n",
        "      return x\n",
        "\n",
        "  ADDclassify=add_model()\n",
        "\n",
        "  # loss function\n",
        "  lossfun = nn.MSELoss()\n",
        "\n",
        "  # optimizer\n",
        "  optimizer = torch.optim.Adam(ADDclassify.parameters(),lr=.05)\n",
        "\n",
        "  # model output\n",
        "  return ADDclassify,lossfun,optimizer"
      ],
      "metadata": {
        "id": "XOELcpSZM8q1"
      },
      "execution_count": 7,
      "outputs": []
    },
    {
      "cell_type": "code",
      "source": [
        "# create function to train the model\n",
        "def train_model(epoch=10):\n",
        "\n",
        "  # create the model\n",
        "  net,lossfun,optimizer=create_model()\n",
        "  net.to(device)\n",
        "\n",
        "  x_train_device = x_train.to(device)\n",
        "  y_train_device = y_train.to(device)\n",
        "  x_test_device = x_test.to(device)\n",
        "  y_test_device = y_test.to(device)\n",
        "\n",
        "  # initialize the loss value\n",
        "  Losses=[]\n",
        "  Accuracy=[]\n",
        "\n",
        "  for i in range(epoch):\n",
        "    # forward pass and loss\n",
        "\n",
        "      yHat=net(x_train_device)\n",
        "      loss=lossfun(yHat,y_train_device.view(-1, 1))\n",
        "\n",
        "      # backprop\n",
        "      optimizer.zero_grad()\n",
        "      loss.backward()\n",
        "      optimizer.step()\n",
        "\n",
        "      Losses.append(loss.item())\n",
        "      Accuracy.append(100*torch.mean((torch.abs(yHat-y_train_device)<1).float()))\n",
        "\n",
        "  ### test with unseen data\n",
        "  testAcc=0\n",
        "  with torch.no_grad():\n",
        "    prediction=net(x_test_device)\n",
        "    test_loss=lossfun(prediction,y_test_device.view(-1, 1))\n",
        "    testAcc=100*torch.mean((torch.abs(prediction-y_test_device)<1).float())\n",
        "\n",
        "  return Losses,Accuracy,test_loss,testAcc\n",
        "\n",
        ""
      ],
      "metadata": {
        "id": "K5cN8OwBiP-h"
      },
      "execution_count": 11,
      "outputs": []
    },
    {
      "cell_type": "code",
      "source": [
        "# test the model once to make sure it runs\n",
        "AddingMachine,lossfun,optimizer = create_model()\n",
        "losses,trainacc,testLoss,testacc = train_model(50)\n",
        "\n",
        "# print the results\n",
        "losses,testacc\n",
        "# losses"
      ],
      "metadata": {
        "colab": {
          "base_uri": "https://localhost:8080/"
        },
        "id": "aEp-hQhxrhd8",
        "outputId": "b75e277f-455f-415e-944e-f8b789a05dfd"
      },
      "execution_count": 21,
      "outputs": [
        {
          "output_type": "execute_result",
          "data": {
            "text/plain": [
              "([74.0376205444336,\n",
              "  55.84039306640625,\n",
              "  35.29218292236328,\n",
              "  15.946361541748047,\n",
              "  12.157428741455078,\n",
              "  13.495797157287598,\n",
              "  10.69914722442627,\n",
              "  5.868252754211426,\n",
              "  4.587627410888672,\n",
              "  6.082798004150391,\n",
              "  7.019349575042725,\n",
              "  5.9434123039245605,\n",
              "  3.704472064971924,\n",
              "  1.920547366142273,\n",
              "  1.7377994060516357,\n",
              "  2.9443817138671875,\n",
              "  3.9179770946502686,\n",
              "  3.38214373588562,\n",
              "  1.896012783050537,\n",
              "  0.835727870464325,\n",
              "  0.7821530103683472,\n",
              "  1.3067498207092285,\n",
              "  1.7202537059783936,\n",
              "  1.663307785987854,\n",
              "  1.217483639717102,\n",
              "  0.7216300964355469,\n",
              "  0.4818691313266754,\n",
              "  0.5581590533256531,\n",
              "  0.72727370262146,\n",
              "  0.7222899198532104,\n",
              "  0.533482015132904,\n",
              "  0.37554875016212463,\n",
              "  0.39435315132141113,\n",
              "  0.5224133729934692,\n",
              "  0.5936899781227112,\n",
              "  0.5167753100395203,\n",
              "  0.34146004915237427,\n",
              "  0.20117293298244476,\n",
              "  0.18610990047454834,\n",
              "  0.25897443294525146,\n",
              "  0.29673343896865845,\n",
              "  0.23866434395313263,\n",
              "  0.14855796098709106,\n",
              "  0.1174648255109787,\n",
              "  0.15264731645584106,\n",
              "  0.18795493245124817,\n",
              "  0.17006075382232666,\n",
              "  0.11290208250284195,\n",
              "  0.0751129686832428,\n",
              "  0.09102571755647659],\n",
              " tensor(100., device='cuda:0'))"
            ]
          },
          "metadata": {},
          "execution_count": 21
        }
      ]
    },
    {
      "cell_type": "code",
      "source": [
        "testacc"
      ],
      "metadata": {
        "colab": {
          "base_uri": "https://localhost:8080/"
        },
        "id": "G5d-SubYBxaM",
        "outputId": "ec79a7cf-3471-48ad-da66-377614675c86"
      },
      "execution_count": 14,
      "outputs": [
        {
          "output_type": "execute_result",
          "data": {
            "text/plain": [
              "tensor(100., device='cuda:0')"
            ]
          },
          "metadata": {},
          "execution_count": 14
        }
      ]
    }
  ]
}